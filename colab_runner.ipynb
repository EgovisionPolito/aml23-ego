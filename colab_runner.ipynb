{
  "cells": [
    {
      "attachments": {},
      "cell_type": "markdown",
      "metadata": {},
      "source": [
        "# Getting started for the AML 2023/2024 Egocentric Vision Project"
      ]
    },
    {
      "attachments": {},
      "cell_type": "markdown",
      "metadata": {
        "colab_type": "text",
        "id": "view-in-github"
      },
      "source": [
        "<a href=\"https://colab.research.google.com/github/EgovisionPolito/aml23-ego/blob/master/colab_runner.ipynb\" target=\"_parent\"><img src=\"https://colab.research.google.com/assets/colab-badge.svg\" alt=\"Open In Colab\"/></a>"
      ]
    },
    {
      "cell_type": "markdown",
      "metadata": {},
      "source": [
        "# Master branch"
      ]
    },
    {
      "cell_type": "markdown",
      "metadata": {},
      "source": [
        "## Get the code"
      ]
    },
    {
      "cell_type": "code",
      "execution_count": null,
      "metadata": {},
      "outputs": [],
      "source": [
        "# Clone the public repository (or your repository)\n",
        "!git clone https://github.com/emi-2205/aml23-ego.git aml23-ego\n",
        "#%cd /content/aml23-ego\n",
        "#!git pull https://github.com/emi-2205/aml23-ego.git"
      ]
    },
    {
      "cell_type": "markdown",
      "metadata": {},
      "source": [
        "## Additional Modules"
      ]
    },
    {
      "cell_type": "code",
      "execution_count": null,
      "metadata": {},
      "outputs": [],
      "source": [
        "# Installing missing dependencies\n",
        "!pip install omegaconf coloredlogs wandb"
      ]
    },
    {
      "attachments": {},
      "cell_type": "markdown",
      "metadata": {},
      "source": [
        "## Get dataset - EPIC-Kitchens-55"
      ]
    },
    {
      "cell_type": "code",
      "execution_count": null,
      "metadata": {},
      "outputs": [],
      "source": [
        "# Mount google drive \n",
        "from google.colab import drive\n",
        "drive.mount('/content/drive')"
      ]
    },
    {
      "cell_type": "code",
      "execution_count": null,
      "metadata": {},
      "outputs": [],
      "source": [
        "%%bash\n",
        "\n",
        "# As read and write operations from google drive are slow, we suggest to copy and unzip\n",
        "# the dataset in a local directory on the Colab's machine.\n",
        "mkdir -p ek_data/frames\n",
        "mkdir -p saved_models\n",
        "\n",
        "# Copy the *.tar.gz files of Epic-Kitchens -> CHANGE WITH YOUR PATH\n",
        "#cp /content/drive/MyDrive/AML/AML_ek55/*.zip ./ek_data\n",
        "cp /content/drive/MyDrive/AML/AML_ek55/P08_09.zip ./ek_data\n",
        "cp /content/drive/MyDrive/AML/AML_ek55/P08_10.zip ./ek_data\n",
        "cp /content/drive/MyDrive/AML/AML_ek55/P08_14.zip ./ek_data\n",
        "cp /content/drive/MyDrive/AML/AML_ek55/P08_15.zip ./ek_data\n",
        "cp /content/drive/MyDrive/AML/AML_ek55/P08_16.zip ./ek_data\n",
        "cp /content/drive/MyDrive/AML/AML_ek55/P08_17.zip ./ek_data\n",
        "\n",
        "# CHANGE WITH YOUR PATH (also in the config file)\n",
        "cp -r /content/drive/MyDrive/AML/AML_project/checkpoints/I3D_SourceOnlyD1 ./saved_models\n",
        "\n",
        "# Unzip\n",
        "for file in ./ek_data/*.zip; do\n",
        "  fn=$(basename $file)\n",
        "  fn=${fn/.zip/}\n",
        "  ls -lah $file\n",
        "  unzip $file -d ek_data/frames/\n",
        "  rm $file\n",
        "done"
      ]
    },
    {
      "attachments": {},
      "cell_type": "markdown",
      "metadata": {},
      "source": [
        "## Features extraction"
      ]
    },
    {
      "cell_type": "code",
      "execution_count": null,
      "metadata": {
        "id": "88YghJyXhbfS"
      },
      "outputs": [],
      "source": [
        "%%bash\n",
        "cd aml23-ego \n",
        "\n",
        "python save_feat.py name=change_me \\\n",
        "  config=configs/I3D_save_feat.yaml \\\n",
        "  dataset.shift=D1-D1 \\\n",
        "  dataset.RGB.data_path=../ek_data/frames "
      ]
    },
    {
      "cell_type": "markdown",
      "metadata": {},
      "source": [
        "## Train"
      ]
    },
    {
      "cell_type": "code",
      "execution_count": null,
      "metadata": {},
      "outputs": [],
      "source": [
        "%%bash\n",
        "cd aml23-ego\n",
        "\n",
        "python train_classifier.py \\\n",
        "  config=configs/deafult.yaml \\\n",
        "  name=boh \\\n",
        "  action=train \\\n",
        "  dataset.shift=aggregated_D1 #_train.pkl"
      ]
    },
    {
      "cell_type": "markdown",
      "metadata": {},
      "source": [
        "# Emilio's branch"
      ]
    },
    {
      "cell_type": "markdown",
      "metadata": {},
      "source": [
        "## Clone"
      ]
    },
    {
      "cell_type": "code",
      "execution_count": null,
      "metadata": {},
      "outputs": [],
      "source": [
        "!git clone -b LSTM https://github.com/emi-2205/aml23-ego.git aml23-ego"
      ]
    },
    {
      "cell_type": "markdown",
      "metadata": {},
      "source": [
        "## Pull"
      ]
    },
    {
      "cell_type": "code",
      "execution_count": null,
      "metadata": {},
      "outputs": [],
      "source": [
        "%cd /content/aml23-ego\n",
        "!git pull https://github.com/emi-2205/aml23-ego.git LSTM"
      ]
    },
    {
      "cell_type": "markdown",
      "metadata": {},
      "source": [
        "## Additional Modules"
      ]
    },
    {
      "cell_type": "code",
      "execution_count": null,
      "metadata": {},
      "outputs": [],
      "source": [
        "# Installing missing dependencies\n",
        "!pip install omegaconf coloredlogs wandb"
      ]
    },
    {
      "cell_type": "markdown",
      "metadata": {},
      "source": [
        "## Get Epic-Kitchen Data from Drive"
      ]
    },
    {
      "cell_type": "code",
      "execution_count": null,
      "metadata": {},
      "outputs": [],
      "source": [
        "# Mount google drive \n",
        "from google.colab import drive\n",
        "drive.mount('/content/drive')"
      ]
    },
    {
      "cell_type": "code",
      "execution_count": null,
      "metadata": {},
      "outputs": [],
      "source": [
        "%%bash\n",
        "mkdir -p ek_data/frames\n",
        "# take the I3DSourceOnlyD1\n",
        "cp /content/drive/MyDrive/MLDL23/Epic_Kitchens_reduced/*.zip ./ek_data\n",
        "# Copy the *.tar.gz files of Epic-Kitchens\n",
        "cp /content/drive/MyDrive/MLDL23/Epic_Kitchens_reduced/*.zip ./ek_data\n",
        "\n",
        "# Unzip and remove the original zip file\n",
        "for file in ./ek_data/*.zip; do\n",
        "  fn=$(basename $file)\n",
        "  fn=${fn/.zip/}\n",
        "  ls -lah $file\n",
        "  mkdir -p ek_data/frames/$fn\n",
        "  unzip $file -d ek_data/frames/\n",
        "  rm $file  # Remove the original zip file after extraction\n",
        "done"
      ]
    },
    {
      "cell_type": "markdown",
      "metadata": {},
      "source": [
        "## Features extraction"
      ]
    },
    {
      "cell_type": "code",
      "execution_count": null,
      "metadata": {},
      "outputs": [],
      "source": [
        "%%bash\n",
        "cd aml23-ego \n",
        "\n",
        "python save_feat.py name=change_me \\\n",
        "  config=configs/I3D_save_feat.yaml \\\n",
        "  dataset.shift=D1-D1 \\\n",
        "  dataset.RGB.data_path=../ek_data/frames "
      ]
    },
    {
      "cell_type": "markdown",
      "metadata": {},
      "source": [
        "## Train"
      ]
    },
    {
      "cell_type": "code",
      "execution_count": null,
      "metadata": {},
      "outputs": [],
      "source": [
        "%%bash\n",
        "cd aml23-ego\n",
        "\n",
        "python train_classifier.py \\\n",
        "  config=configs/deafult.yaml \\\n",
        "  name=boh \\\n",
        "  action=train \\\n",
        "  dataset.shift=aggregated_D1 #_train.pkl"
      ]
    }
  ],
  "metadata": {
    "accelerator": "GPU",
    "colab": {
      "authorship_tag": "ABX9TyMA44pwS84HIKtaEclSmH2W",
      "include_colab_link": true,
      "provenance": []
    },
    "gpuClass": "standard",
    "kernelspec": {
      "display_name": "aml22",
      "language": "python",
      "name": "python3"
    },
    "language_info": {
      "codemirror_mode": {
        "name": "ipython",
        "version": 3
      },
      "file_extension": ".py",
      "mimetype": "text/x-python",
      "name": "python",
      "nbconvert_exporter": "python",
      "pygments_lexer": "ipython3",
      "version": "3.10.2"
    },
    "vscode": {
      "interpreter": {
        "hash": "2fc1f0eeae38a5df67b0f713e03196095ce1bfa55aa551576e8e58c2ba904c5a"
      }
    }
  },
  "nbformat": 4,
  "nbformat_minor": 0
}
